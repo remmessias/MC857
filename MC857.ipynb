{
 "cells": [
  {
   "cell_type": "code",
   "execution_count": null,
   "metadata": {},
   "outputs": [],
   "source": [
    "import cv2\n",
    "import numpy as np\n",
    "import matplotlib.pyplot as plt\n",
    "from os import listdir\n",
    "from os.path import isfile, join"
   ]
  },
  {
   "cell_type": "code",
   "execution_count": null,
   "metadata": {},
   "outputs": [],
   "source": [
    "path = \"masks/\"\n",
    "\n",
    "maskImages = [f for f in listdir(path) if isfile(join(path, f))]"
   ]
  },
  {
   "cell_type": "code",
   "execution_count": null,
   "metadata": {},
   "outputs": [],
   "source": [
    "for maskImage in maskImages:\n",
    "    mask = cv2.imread('masks/' + maskImage, cv2.IMREAD_GRAYSCALE)\n",
    "    latent = cv2.imread('latent/' + maskImage, cv2.IMREAD_GRAYSCALE)\n",
    "    altura,largura = np.shape(mask)\n",
    "\n",
    "    for py in range(0,altura):\n",
    "        for px in range(0,largura):\n",
    "            if mask[py][px] == 0 and latent is not None:\n",
    "                latent[py][px] *= 0\n",
    "\n",
    "    if latent is not None:\n",
    "        plt.imshow(latent, interpolation='nearest')\n",
    "        plt.show()"
   ]
  },
  {
   "cell_type": "code",
   "execution_count": null,
   "metadata": {},
   "outputs": [],
   "source": []
  }
 ],
 "metadata": {
  "kernelspec": {
   "display_name": "Python 3",
   "language": "python",
   "name": "python3"
  },
  "language_info": {
   "codemirror_mode": {
    "name": "ipython",
    "version": 3
   },
   "file_extension": ".py",
   "mimetype": "text/x-python",
   "name": "python",
   "nbconvert_exporter": "python",
   "pygments_lexer": "ipython3",
   "version": "3.8.5"
  }
 },
 "nbformat": 4,
 "nbformat_minor": 5
}
